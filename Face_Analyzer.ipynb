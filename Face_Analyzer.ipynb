{
  "nbformat": 4,
  "nbformat_minor": 0,
  "metadata": {
    "colab": {
      "private_outputs": true,
      "provenance": [],
      "authorship_tag": "ABX9TyP7KcgoFRnHx1MyBdHQ/nH3",
      "include_colab_link": true
    },
    "kernelspec": {
      "name": "python3",
      "display_name": "Python 3"
    },
    "language_info": {
      "name": "python"
    }
  },
  "cells": [
    {
      "cell_type": "markdown",
      "metadata": {
        "id": "view-in-github",
        "colab_type": "text"
      },
      "source": [
        "<a href=\"https://colab.research.google.com/github/hadiadev/MY-AI-projects-/blob/main/Face_Analyzer.ipynb\" target=\"_parent\"><img src=\"https://colab.research.google.com/assets/colab-badge.svg\" alt=\"Open In Colab\"/></a>"
      ]
    },
    {
      "cell_type": "code",
      "source": [
        "#!Install necessary libraries\n",
        "#!pip install opencv-python\n",
        "#!pip install matplotlib\n",
        "#!pip install deepface\n",
        "#!pip install gradio\n",
        "import cv2\n",
        "from deepface import DeepFace\n",
        "import gradio as gr\n",
        "\n",
        "# Function to analyze the image using DeepFace\n",
        "def analyze_image_gradio(image):\n",
        "    try:\n",
        "        # Convert the image from BGR to RGB (since OpenCV reads images in BGR format)\n",
        "        img_rgb = cv2.cvtColor(image, cv2.COLOR_BGR2RGB)\n",
        "\n",
        "        # Analyze the image for age and gender using DeepFace\n",
        "        result = DeepFace.analyze(img_rgb, actions=['age', 'gender'], enforce_detection=False)\n",
        "        age = result[0]['age']\n",
        "        gender = result[0]['gender']\n",
        "\n",
        "        # Further adjustments based on specific logic\n",
        "        if age < 18:\n",
        "            age_label = \"Baby/Young Person\"\n",
        "        elif age >= 50:\n",
        "            age_label = \"Older Person\"\n",
        "        else:\n",
        "            age_label = \"Adult\"\n",
        "\n",
        "        # Return results as a string\n",
        "        return f\"👤 Estimated Age: {age} years old ({age_label})\\n🔍 Gender: {gender}\"\n",
        "\n",
        "    except Exception as e:\n",
        "        return f\"Error analyzing image: {e}\"\n",
        "\n",
        "# Create a Gradio interface\n",
        "interface = gr.Interface(\n",
        "    fn=analyze_image_gradio,  # The function to run\n",
        "    inputs=\"image\",  # Input is an image\n",
        "    outputs=\"text\",  # Output will be text\n",
        "    title=\"Age and Gender Detection\",  # Title of the app\n",
        "    description=\"Upload an image to analyze age and gender using AI.\",  # Description\n",
        "    live=True  # Allows live interaction\n",
        ")\n",
        "\n",
        "# Launch the interface\n",
        "interface.launch()\n"
      ],
      "metadata": {
        "id": "Au1pBUpx451I"
      },
      "execution_count": null,
      "outputs": []
    }
  ]
}