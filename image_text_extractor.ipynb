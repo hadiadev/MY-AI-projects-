{
  "nbformat": 4,
  "nbformat_minor": 0,
  "metadata": {
    "colab": {
      "private_outputs": true,
      "provenance": [],
      "authorship_tag": "ABX9TyOXdYFMjnC/rQPmZcWBwE6W",
      "include_colab_link": true
    },
    "kernelspec": {
      "name": "python3",
      "display_name": "Python 3"
    },
    "language_info": {
      "name": "python"
    }
  },
  "cells": [
    {
      "cell_type": "markdown",
      "metadata": {
        "id": "view-in-github",
        "colab_type": "text"
      },
      "source": [
        "<a href=\"https://colab.research.google.com/github/hadiadev/MY-AI-projects-/blob/main/image_text_extractor.ipynb\" target=\"_parent\"><img src=\"https://colab.research.google.com/assets/colab-badge.svg\" alt=\"Open In Colab\"/></a>"
      ]
    },
    {
      "cell_type": "code",
      "source": [
        "!pip install gradio easyocr\n"
      ],
      "metadata": {
        "id": "f1UUHslR56QQ"
      },
      "execution_count": null,
      "outputs": []
    },
    {
      "cell_type": "code",
      "source": [
        "import gradio as gr\n",
        "import easyocr\n",
        "import numpy as np\n",
        "from PIL import Image\n",
        "\n",
        "# Initialize easyOCR reader\n",
        "reader = easyocr.Reader(['en'])\n",
        "\n",
        "# Function to extract text from images\n",
        "def extract_text(image):\n",
        "    img_array = np.array(image)  # Convert PIL Image to NumPy array\n",
        "    result = reader.readtext(img_array)\n",
        "    extracted_text = \"\\n\".join([text[1] for text in result])  # Extract detected text\n",
        "    return extracted_text if extracted_text else \"No text detected!\"\n",
        "\n",
        "# Create a Gradio interface\n",
        "interface = gr.Interface(\n",
        "    fn=extract_text,  # Function to run\n",
        "    inputs=gr.Image(type=\"pil\"),  # Image input\n",
        "    outputs=gr.Textbox(),  # Text output\n",
        "    title=\"Image Text Extractor\",\n",
        "    description=\"Upload an image, and this will extract text from it.\"\n",
        ")\n",
        "\n",
        "# Launch the Gradio app\n",
        "interface.launch(share=True)\n"
      ],
      "metadata": {
        "id": "kONomCO957Bu"
      },
      "execution_count": null,
      "outputs": []
    }
  ]
}