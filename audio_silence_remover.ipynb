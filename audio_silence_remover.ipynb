{
  "nbformat": 4,
  "nbformat_minor": 0,
  "metadata": {
    "colab": {
      "private_outputs": true,
      "provenance": [],
      "authorship_tag": "ABX9TyOgjy3yqdF5vR6/eEjXVwtu",
      "include_colab_link": true
    },
    "kernelspec": {
      "name": "python3",
      "display_name": "Python 3"
    },
    "language_info": {
      "name": "python"
    }
  },
  "cells": [
    {
      "cell_type": "markdown",
      "metadata": {
        "id": "view-in-github",
        "colab_type": "text"
      },
      "source": [
        "<a href=\"https://colab.research.google.com/github/hadiadev/MY-AI-projects-/blob/main/audio_silence_remover.ipynb\" target=\"_parent\"><img src=\"https://colab.research.google.com/assets/colab-badge.svg\" alt=\"Open In Colab\"/></a>"
      ]
    },
    {
      "cell_type": "code",
      "execution_count": null,
      "metadata": {
        "id": "Qwm6LGWOxw8d"
      },
      "outputs": [],
      "source": [
        "!pip install pydub\n",
        "!apt-get install ffmpeg\n"
      ]
    },
    {
      "cell_type": "code",
      "source": [
        "from pydub import AudioSegment\n",
        "from pydub.silence import split_on_silence\n",
        "from google.colab import files\n",
        "from IPython.display import Audio\n",
        "\n",
        "# Function to remove silence from an audio file\n",
        "def remove_silence_from_audio(audio_file_path):\n",
        "    # Load the audio file\n",
        "    audio = AudioSegment.from_file(audio_file_path)\n",
        "\n",
        "    # Split the audio on silent parts\n",
        "    non_silent_audio = split_on_silence(audio,\n",
        "                                        min_silence_len=600,  # Reduced to target shorter silent gaps\n",
        "                                        silence_thresh=-45)   # Silence threshold in dBFS, adjust for breathing sounds\n",
        "\n",
        "    # Combine the non-silent parts back into a single audio file\n",
        "    cleaned_audio = AudioSegment.empty()\n",
        "    for segment in non_silent_audio:\n",
        "        cleaned_audio += segment\n",
        "\n",
        "    # Export the cleaned audio file (saving locally in the Colab environment)\n",
        "    cleaned_audio.export(\"cleaned_audio.mp3\", format=\"mp3\")\n",
        "\n",
        "    return \"cleaned_audio.mp3\", cleaned_audio\n",
        "\n",
        "# Upload the audio file\n",
        "uploaded = files.upload()\n",
        "\n",
        "# Extract the uploaded audio file name\n",
        "audio_file_name = next(iter(uploaded))\n",
        "\n",
        "# Call the function to remove silence and get the cleaned audio file\n",
        "output_file, cleaned_audio = remove_silence_from_audio(audio_file_name)\n",
        "\n",
        "# Provide a preview of the cleaned audio (playable directly in Colab)\n",
        "audio_preview = Audio(output_file)  # Playable directly in Colab\n",
        "audio_preview\n"
      ],
      "metadata": {
        "id": "IqnsVVwKJIzf"
      },
      "execution_count": null,
      "outputs": []
    }
  ]
}